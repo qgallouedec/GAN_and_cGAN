{
  "nbformat": 4,
  "nbformat_minor": 0,
  "metadata": {
    "colab": {
      "name": "BE2 - GAN and cGAN.ipynb",
      "provenance": [],
      "collapsed_sections": []
    },
    "kernelspec": {
      "display_name": "Python 3",
      "language": "python",
      "name": "python3"
    }
  },
  "cells": [
    {
      "cell_type": "markdown",
      "metadata": {
        "colab_type": "text",
        "id": "UGwKsKS4GMTN"
      },
      "source": [
        "<h1 ><big><center>MSO 3.4 - Deep Structured Learning</center></big></h1>\n",
        "\n",
        "<h3><big><center>Emmanuel Dellandréa, Amaury Depierre, Liming Chen</center></big></h3>\n",
        "\n",
        "\n",
        "<h2><big><center> BE 2 - GANs and cGAN </center></big></h2>\n",
        "\n",
        "<h5><big><center>Adapted from <i>Projet d'Option</i> of : Mhamed Jabri, Martin Chauvin, Ahmed Sahraoui, Zakariae Moustaïne and Taoufik Bouchikhi\n",
        "\n",
        "\n",
        "<p align=\"center\">\n",
        "<img height=300px src=\"https://cdn-images-1.medium.com/max/1080/0*tJRy5Chmk4XymxwN.png\"/></p>\n",
        "<p align=\"center\"></p>"
      ]
    },
    {
      "cell_type": "markdown",
      "metadata": {
        "colab_type": "text",
        "id": "16aVF81lJuiP"
      },
      "source": [
        "The aim of this assignment is to discover GANs, understand how they are implemented and then explore one specific architecture of GANs that allows us to perform image to image translation (which corresponds to the picture that you can see above this text ! )\n",
        "\n",
        "Before starting the exploration of the world of GANs, here's  what students should do and send back for this assignement : \n",
        "* In the \"tutorial\" parts of this assignement that focus on explaining new concepts, you'll find <font color='red'>**questions**</font>  that aim to test your understanding of those concepts. \n",
        "* In some of the code cells, you'll have to complete the code and you'll find a \"TO DO\" explaining what you should implement."
      ]
    },
    {
      "cell_type": "markdown",
      "metadata": {
        "id": "M-WNKvhOP1ED",
        "colab_type": "text"
      },
      "source": [
        "# Part1: DC-GAN"
      ]
    },
    {
      "cell_type": "markdown",
      "metadata": {
        "id": "y_r8nMTGQI9a",
        "colab_type": "text"
      },
      "source": [
        "In this part, we aim to learn and understand the basic concepts of **Generative Adversarial Networks** through a DCGAN and generate new celebrities from the learned network after showing it real celebrities. For this purpose, please study the tutorial here: https://pytorch.org/tutorials/beginner/dcgan_faces_tutorial.html\n"
      ]
    },
    {
      "cell_type": "markdown",
      "metadata": {
        "id": "jiHCy4_UUBFb",
        "colab_type": "text"
      },
      "source": [
        "##Work to do\n",
        "Now we want to generate handwritten digits using the MNIST dataset. It is available within torvision package (https://pytorch.org/docs/stable/torchvision/datasets.html#mnist)\n",
        "\n",
        "Please re-train the DCGAN and display some automatically generated handwritten digits.\n",
        "\n"
      ]
    },
    {
      "cell_type": "code",
      "metadata": {
        "id": "sIL7UvYAZx6L",
        "colab_type": "code",
        "colab": {}
      },
      "source": [
        "#TO DO: your code here to adapt the code from the tutorial to experiment on MNIST dataset\n",
        "\n",
        "from __future__ import print_function\n",
        "#%matplotlib inline\n",
        "import argparse\n",
        "import os\n",
        "import random\n",
        "import torch\n",
        "import torch.nn as nn\n",
        "import torch.nn.parallel\n",
        "import torch.backends.cudnn as cudnn\n",
        "import torch.optim as optim\n",
        "import torch.utils.data\n",
        "import torchvision.datasets as dset\n",
        "import torchvision.transforms as transforms\n",
        "import torchvision.utils as vutils\n",
        "import numpy as np\n",
        "import matplotlib.pyplot as plt\n",
        "import matplotlib.animation as animation\n",
        "from IPython.display import HTML\n",
        "\n",
        "# Set random seed for reproducibility\n",
        "manualSeed = 999\n",
        "#manualSeed = random.randint(1, 10000) # use if you want new results\n",
        "print(\"Random Seed: \", manualSeed)\n",
        "random.seed(manualSeed)\n",
        "torch.manual_seed(manualSeed)\n",
        "\n",
        "# Root directory for dataset\n",
        "dataroot = \"data/celeba\"\n",
        "\n",
        "# Number of workers for dataloader\n",
        "workers = 2\n",
        "\n",
        "# Batch size during training\n",
        "batch_size = 128\n",
        "\n",
        "# Spatial size of training images. All images will be resized to this\n",
        "#   size using a transformer.\n",
        "image_size = 64\n",
        "\n",
        "# Number of channels in the training images. For color images this is 3\n",
        "nc = 3\n",
        "\n",
        "# Size of z latent vector (i.e. size of generator input)\n",
        "nz = 100\n",
        "\n",
        "# Size of feature maps in generator\n",
        "ngf = 64\n",
        "\n",
        "# Size of feature maps in discriminator\n",
        "ndf = 64\n",
        "\n",
        "# Number of training epochs\n",
        "num_epochs = 5\n",
        "\n",
        "# Learning rate for optimizers\n",
        "lr = 0.0002\n",
        "\n",
        "# Beta1 hyperparam for Adam optimizers\n",
        "beta1 = 0.5\n",
        "\n",
        "# Number of GPUs available. Use 0 for CPU mode.\n",
        "ngpu = 1\n",
        "\n",
        "# We can use an image folder dataset the way we have it setup.\n",
        "# Create the dataset\n",
        "dataset = dset.ImageFolder(root=dataroot,\n",
        "                           transform=transforms.Compose([\n",
        "                               transforms.Resize(image_size),\n",
        "                               transforms.CenterCrop(image_size),\n",
        "                               transforms.ToTensor(),\n",
        "                               transforms.Normalize((0.5, 0.5, 0.5), (0.5, 0.5, 0.5)),\n",
        "                           ]))\n",
        "# Create the dataloader\n",
        "dataloader = torch.utils.data.DataLoader(dataset, batch_size=batch_size,\n",
        "                                         shuffle=True, num_workers=workers)\n",
        "\n",
        "# Decide which device we want to run on\n",
        "device = torch.device(\"cuda:0\" if (torch.cuda.is_available() and ngpu > 0) else \"cpu\")\n",
        "\n",
        "# Plot some training images\n",
        "real_batch = next(iter(dataloader))\n",
        "plt.figure(figsize=(8,8))\n",
        "plt.axis(\"off\")\n",
        "plt.title(\"Training Images\")\n",
        "plt.imshow(np.transpose(vutils.make_grid(real_batch[0].to(device)[:64], padding=2, normalize=True).cpu(),(1,2,0)))\n",
        "\n",
        "# custom weights initialization called on netG and netD\n",
        "def weights_init(m):\n",
        "    classname = m.__class__.__name__\n",
        "    if classname.find('Conv') != -1:\n",
        "        nn.init.normal_(m.weight.data, 0.0, 0.02)\n",
        "    elif classname.find('BatchNorm') != -1:\n",
        "        nn.init.normal_(m.weight.data, 1.0, 0.02)\n",
        "        nn.init.constant_(m.bias.data, 0)\n",
        "\n",
        "\n",
        "\n",
        "# Generator Code\n",
        "\n",
        "class Generator(nn.Module):\n",
        "    def __init__(self, ngpu):\n",
        "        super(Generator, self).__init__()\n",
        "        self.ngpu = ngpu\n",
        "        self.main = nn.Sequential(\n",
        "            # input is Z, going into a convolution\n",
        "            nn.ConvTranspose2d( nz, ngf * 8, 4, 1, 0, bias=False),\n",
        "            nn.BatchNorm2d(ngf * 8),\n",
        "            nn.ReLU(True),\n",
        "            # state size. (ngf*8) x 4 x 4\n",
        "            nn.ConvTranspose2d(ngf * 8, ngf * 4, 4, 2, 1, bias=False),\n",
        "            nn.BatchNorm2d(ngf * 4),\n",
        "            nn.ReLU(True),\n",
        "            # state size. (ngf*4) x 8 x 8\n",
        "            nn.ConvTranspose2d( ngf * 4, ngf * 2, 4, 2, 1, bias=False),\n",
        "            nn.BatchNorm2d(ngf * 2),\n",
        "            nn.ReLU(True),\n",
        "            # state size. (ngf*2) x 16 x 16\n",
        "            nn.ConvTranspose2d( ngf * 2, ngf, 4, 2, 1, bias=False),\n",
        "            nn.BatchNorm2d(ngf),\n",
        "            nn.ReLU(True),\n",
        "            # state size. (ngf) x 32 x 32\n",
        "            nn.ConvTranspose2d( ngf, nc, 4, 2, 1, bias=False),\n",
        "            nn.Tanh()\n",
        "            # state size. (nc) x 64 x 64\n",
        "        )\n",
        "\n",
        "    def forward(self, input):\n",
        "        return self.main(input)\n",
        "\n",
        "\n",
        "# Create the generator\n",
        "netG = Generator(ngpu).to(device)\n",
        "\n",
        "# Handle multi-gpu if desired\n",
        "if (device.type == 'cuda') and (ngpu > 1):\n",
        "    netG = nn.DataParallel(netG, list(range(ngpu)))\n",
        "\n",
        "# Apply the weights_init function to randomly initialize all weights\n",
        "#  to mean=0, stdev=0.2.\n",
        "netG.apply(weights_init)\n",
        "\n",
        "# Print the model\n",
        "print(netG)\n",
        "\n",
        "class Discriminator(nn.Module):\n",
        "    def __init__(self, ngpu):\n",
        "        super(Discriminator, self).__init__()\n",
        "        self.ngpu = ngpu\n",
        "        self.main = nn.Sequential(\n",
        "            # input is (nc) x 64 x 64\n",
        "            nn.Conv2d(nc, ndf, 4, 2, 1, bias=False),\n",
        "            nn.LeakyReLU(0.2, inplace=True),\n",
        "            # state size. (ndf) x 32 x 32\n",
        "            nn.Conv2d(ndf, ndf * 2, 4, 2, 1, bias=False),\n",
        "            nn.BatchNorm2d(ndf * 2),\n",
        "            nn.LeakyReLU(0.2, inplace=True),\n",
        "            # state size. (ndf*2) x 16 x 16\n",
        "            nn.Conv2d(ndf * 2, ndf * 4, 4, 2, 1, bias=False),\n",
        "            nn.BatchNorm2d(ndf * 4),\n",
        "            nn.LeakyReLU(0.2, inplace=True),\n",
        "            # state size. (ndf*4) x 8 x 8\n",
        "            nn.Conv2d(ndf * 4, ndf * 8, 4, 2, 1, bias=False),\n",
        "            nn.BatchNorm2d(ndf * 8),\n",
        "            nn.LeakyReLU(0.2, inplace=True),\n",
        "            # state size. (ndf*8) x 4 x 4\n",
        "            nn.Conv2d(ndf * 8, 1, 4, 1, 0, bias=False),\n",
        "            nn.Sigmoid()\n",
        "        )\n",
        "\n",
        "    def forward(self, input):\n",
        "        return self.main(input)\n",
        "\n",
        "\n",
        "# Create the Discriminator\n",
        "netD = Discriminator(ngpu).to(device)\n",
        "\n",
        "# Handle multi-gpu if desired\n",
        "if (device.type == 'cuda') and (ngpu > 1):\n",
        "    netD = nn.DataParallel(netD, list(range(ngpu)))\n",
        "\n",
        "# Apply the weights_init function to randomly initialize all weights\n",
        "#  to mean=0, stdev=0.2.\n",
        "netD.apply(weights_init)\n",
        "\n",
        "# Print the model\n",
        "print(netD)\n",
        "\n",
        "\n",
        "# Initialize BCELoss function\n",
        "criterion = nn.BCELoss()\n",
        "\n",
        "# Create batch of latent vectors that we will use to visualize\n",
        "#  the progression of the generator\n",
        "fixed_noise = torch.randn(64, nz, 1, 1, device=device)\n",
        "\n",
        "# Establish convention for real and fake labels during training\n",
        "real_label = 1\n",
        "fake_label = 0\n",
        "\n",
        "# Setup Adam optimizers for both G and D\n",
        "optimizerD = optim.Adam(netD.parameters(), lr=lr, betas=(beta1, 0.999))\n",
        "optimizerG = optim.Adam(netG.parameters(), lr=lr, betas=(beta1, 0.999))\n",
        "\n",
        "\n",
        "\n",
        "\n",
        "# Training Loop\n",
        "\n",
        "# Lists to keep track of progress\n",
        "img_list = []\n",
        "G_losses = []\n",
        "D_losses = []\n",
        "iters = 0\n",
        "\n",
        "print(\"Starting Training Loop...\")\n",
        "# For each epoch\n",
        "for epoch in range(num_epochs):\n",
        "    # For each batch in the dataloader\n",
        "    for i, data in enumerate(dataloader, 0):\n",
        "\n",
        "        ############################\n",
        "        # (1) Update D network: maximize log(D(x)) + log(1 - D(G(z)))\n",
        "        ###########################\n",
        "        ## Train with all-real batch\n",
        "        netD.zero_grad()\n",
        "        # Format batch\n",
        "        real_cpu = data[0].to(device)\n",
        "        b_size = real_cpu.size(0)\n",
        "        label = torch.full((b_size,), real_label, device=device)\n",
        "        # Forward pass real batch through D\n",
        "        output = netD(real_cpu).view(-1)\n",
        "        # Calculate loss on all-real batch\n",
        "        errD_real = criterion(output, label)\n",
        "        # Calculate gradients for D in backward pass\n",
        "        errD_real.backward()\n",
        "        D_x = output.mean().item()\n",
        "\n",
        "        ## Train with all-fake batch\n",
        "        # Generate batch of latent vectors\n",
        "        noise = torch.randn(b_size, nz, 1, 1, device=device)\n",
        "        # Generate fake image batch with G\n",
        "        fake = netG(noise)\n",
        "        label.fill_(fake_label)\n",
        "        # Classify all fake batch with D\n",
        "        output = netD(fake.detach()).view(-1)\n",
        "        # Calculate D's loss on the all-fake batch\n",
        "        errD_fake = criterion(output, label)\n",
        "        # Calculate the gradients for this batch\n",
        "        errD_fake.backward()\n",
        "        D_G_z1 = output.mean().item()\n",
        "        # Add the gradients from the all-real and all-fake batches\n",
        "        errD = errD_real + errD_fake\n",
        "        # Update D\n",
        "        optimizerD.step()\n",
        "\n",
        "        ############################\n",
        "        # (2) Update G network: maximize log(D(G(z)))\n",
        "        ###########################\n",
        "        netG.zero_grad()\n",
        "        label.fill_(real_label)  # fake labels are real for generator cost\n",
        "        # Since we just updated D, perform another forward pass of all-fake batch through D\n",
        "        output = netD(fake).view(-1)\n",
        "        # Calculate G's loss based on this output\n",
        "        errG = criterion(output, label)\n",
        "        # Calculate gradients for G\n",
        "        errG.backward()\n",
        "        D_G_z2 = output.mean().item()\n",
        "        # Update G\n",
        "        optimizerG.step()\n",
        "\n",
        "        # Output training stats\n",
        "        if i % 50 == 0:\n",
        "            print('[%d/%d][%d/%d]\\tLoss_D: %.4f\\tLoss_G: %.4f\\tD(x): %.4f\\tD(G(z)): %.4f / %.4f'\n",
        "                  % (epoch, num_epochs, i, len(dataloader),\n",
        "                     errD.item(), errG.item(), D_x, D_G_z1, D_G_z2))\n",
        "\n",
        "        # Save Losses for plotting later\n",
        "        G_losses.append(errG.item())\n",
        "        D_losses.append(errD.item())\n",
        "\n",
        "        # Check how the generator is doing by saving G's output on fixed_noise\n",
        "        if (iters % 500 == 0) or ((epoch == num_epochs-1) and (i == len(dataloader)-1)):\n",
        "            with torch.no_grad():\n",
        "                fake = netG(fixed_noise).detach().cpu()\n",
        "            img_list.append(vutils.make_grid(fake, padding=2, normalize=True))\n",
        "\n",
        "        iters += 1\n",
        "\n",
        "\n",
        "plt.figure(figsize=(10,5))\n",
        "plt.title(\"Generator and Discriminator Loss During Training\")\n",
        "plt.plot(G_losses,label=\"G\")\n",
        "plt.plot(D_losses,label=\"D\")\n",
        "plt.xlabel(\"iterations\")\n",
        "plt.ylabel(\"Loss\")\n",
        "plt.legend()\n",
        "# plt.show()\n",
        "\n",
        "#%%capture\n",
        "fig = plt.figure(figsize=(8,8))\n",
        "plt.axis(\"off\")\n",
        "ims = [[plt.imshow(np.transpose(i,(1,2,0)), animated=True)] for i in img_list]\n",
        "ani = animation.ArtistAnimation(fig, ims, interval=1000, repeat_delay=1000, blit=True)\n",
        "\n",
        "HTML(ani.to_jshtml())\n",
        "\n",
        "# Grab a batch of real images from the dataloader\n",
        "real_batch = next(iter(dataloader))\n",
        "\n",
        "# Plot the real images\n",
        "plt.figure(figsize=(15,15))\n",
        "plt.subplot(1,2,1)\n",
        "plt.axis(\"off\")\n",
        "plt.title(\"Real Images\")\n",
        "plt.imshow(np.transpose(vutils.make_grid(real_batch[0].to(device)[:64], padding=5, normalize=True).cpu(),(1,2,0)))\n",
        "\n",
        "# Plot the fake images from the last epoch\n",
        "plt.subplot(1,2,2)\n",
        "plt.axis(\"off\")\n",
        "plt.title(\"Fake Images\")\n",
        "plt.imshow(np.transpose(img_list[-1],(1,2,0)))\n",
        "plt.show()\n",
        ""
      ],
      "execution_count": 8,
      "outputs": [
        {
          "output_type": "stream",
          "name": "stdout",
          "text": "Random Seed:  999\nGenerator(\n  (main): Sequential(\n    (0): ConvTranspose2d(100, 512, kernel_size=(4, 4), stride=(1, 1), bias=False)\n    (1): BatchNorm2d(512, eps=1e-05, momentum=0.1, affine=True, track_running_stats=True)\n    (2): ReLU(inplace=True)\n    (3): ConvTranspose2d(512, 256, kernel_size=(4, 4), stride=(2, 2), padding=(1, 1), bias=False)\n    (4): BatchNorm2d(256, eps=1e-05, momentum=0.1, affine=True, track_running_stats=True)\n    (5): ReLU(inplace=True)\n    (6): ConvTranspose2d(256, 128, kernel_size=(4, 4), stride=(2, 2), padding=(1, 1), bias=False)\n    (7): BatchNorm2d(128, eps=1e-05, momentum=0.1, affine=True, track_running_stats=True)\n    (8): ReLU(inplace=True)\n    (9): ConvTranspose2d(128, 64, kernel_size=(4, 4), stride=(2, 2), padding=(1, 1), bias=False)\n    (10): BatchNorm2d(64, eps=1e-05, momentum=0.1, affine=True, track_running_stats=True)\n    (11): ReLU(inplace=True)\n    (12): ConvTranspose2d(64, 3, kernel_size=(4, 4), stride=(2, 2), padding=(1, 1), bias=False)\n    (13): Tanh()\n  )\n)\nDiscriminator(\n  (main): Sequential(\n    (0): Conv2d(3, 64, kernel_size=(4, 4), stride=(2, 2), padding=(1, 1), bias=False)\n    (1): LeakyReLU(negative_slope=0.2, inplace=True)\n    (2): Conv2d(64, 128, kernel_size=(4, 4), stride=(2, 2), padding=(1, 1), bias=False)\n    (3): BatchNorm2d(128, eps=1e-05, momentum=0.1, affine=True, track_running_stats=True)\n    (4): LeakyReLU(negative_slope=0.2, inplace=True)\n    (5): Conv2d(128, 256, kernel_size=(4, 4), stride=(2, 2), padding=(1, 1), bias=False)\n    (6): BatchNorm2d(256, eps=1e-05, momentum=0.1, affine=True, track_running_stats=True)\n    (7): LeakyReLU(negative_slope=0.2, inplace=True)\n    (8): Conv2d(256, 512, kernel_size=(4, 4), stride=(2, 2), padding=(1, 1), bias=False)\n    (9): BatchNorm2d(512, eps=1e-05, momentum=0.1, affine=True, track_running_stats=True)\n    (10): LeakyReLU(negative_slope=0.2, inplace=True)\n    (11): Conv2d(512, 1, kernel_size=(4, 4), stride=(1, 1), bias=False)\n    (12): Sigmoid()\n  )\n)\nStarting Training Loop...\n[0/5][0/1583]\tLoss_D: 1.8664\tLoss_G: 4.9949\tD(x): 0.5050\tD(G(z)): 0.5928 / 0.0106\n"
        },
        {
          "output_type": "error",
          "ename": "KeyboardInterrupt",
          "evalue": "",
          "traceback": [
            "\u001b[0;31m---------------------------------------------------------------------------\u001b[0m",
            "\u001b[0;31mKeyboardInterrupt\u001b[0m                         Traceback (most recent call last)",
            "\u001b[0;32m<ipython-input-8-b30f88b065db>\u001b[0m in \u001b[0;36m<module>\u001b[0;34m\u001b[0m\n\u001b[1;32m    266\u001b[0m         \u001b[0merrG\u001b[0m \u001b[0;34m=\u001b[0m \u001b[0mcriterion\u001b[0m\u001b[0;34m(\u001b[0m\u001b[0moutput\u001b[0m\u001b[0;34m,\u001b[0m \u001b[0mlabel\u001b[0m\u001b[0;34m)\u001b[0m\u001b[0;34m\u001b[0m\u001b[0;34m\u001b[0m\u001b[0m\n\u001b[1;32m    267\u001b[0m         \u001b[0;31m# Calculate gradients for G\u001b[0m\u001b[0;34m\u001b[0m\u001b[0;34m\u001b[0m\u001b[0;34m\u001b[0m\u001b[0m\n\u001b[0;32m--> 268\u001b[0;31m         \u001b[0merrG\u001b[0m\u001b[0;34m.\u001b[0m\u001b[0mbackward\u001b[0m\u001b[0;34m(\u001b[0m\u001b[0;34m)\u001b[0m\u001b[0;34m\u001b[0m\u001b[0;34m\u001b[0m\u001b[0m\n\u001b[0m\u001b[1;32m    269\u001b[0m         \u001b[0mD_G_z2\u001b[0m \u001b[0;34m=\u001b[0m \u001b[0moutput\u001b[0m\u001b[0;34m.\u001b[0m\u001b[0mmean\u001b[0m\u001b[0;34m(\u001b[0m\u001b[0;34m)\u001b[0m\u001b[0;34m.\u001b[0m\u001b[0mitem\u001b[0m\u001b[0;34m(\u001b[0m\u001b[0;34m)\u001b[0m\u001b[0;34m\u001b[0m\u001b[0;34m\u001b[0m\u001b[0m\n\u001b[1;32m    270\u001b[0m         \u001b[0;31m# Update G\u001b[0m\u001b[0;34m\u001b[0m\u001b[0;34m\u001b[0m\u001b[0;34m\u001b[0m\u001b[0m\n",
            "\u001b[0;32m/Library/Frameworks/Python.framework/Versions/3.7/lib/python3.7/site-packages/torch/tensor.py\u001b[0m in \u001b[0;36mbackward\u001b[0;34m(self, gradient, retain_graph, create_graph)\u001b[0m\n\u001b[1;32m    164\u001b[0m                 \u001b[0mproducts\u001b[0m\u001b[0;34m.\u001b[0m \u001b[0mDefaults\u001b[0m \u001b[0mto\u001b[0m\u001b[0;31m \u001b[0m\u001b[0;31m`\u001b[0m\u001b[0;31m`\u001b[0m\u001b[0;32mFalse\u001b[0m\u001b[0;31m`\u001b[0m\u001b[0;31m`\u001b[0m\u001b[0;34m.\u001b[0m\u001b[0;34m\u001b[0m\u001b[0;34m\u001b[0m\u001b[0m\n\u001b[1;32m    165\u001b[0m         \"\"\"\n\u001b[0;32m--> 166\u001b[0;31m         \u001b[0mtorch\u001b[0m\u001b[0;34m.\u001b[0m\u001b[0mautograd\u001b[0m\u001b[0;34m.\u001b[0m\u001b[0mbackward\u001b[0m\u001b[0;34m(\u001b[0m\u001b[0mself\u001b[0m\u001b[0;34m,\u001b[0m \u001b[0mgradient\u001b[0m\u001b[0;34m,\u001b[0m \u001b[0mretain_graph\u001b[0m\u001b[0;34m,\u001b[0m \u001b[0mcreate_graph\u001b[0m\u001b[0;34m)\u001b[0m\u001b[0;34m\u001b[0m\u001b[0;34m\u001b[0m\u001b[0m\n\u001b[0m\u001b[1;32m    167\u001b[0m \u001b[0;34m\u001b[0m\u001b[0m\n\u001b[1;32m    168\u001b[0m     \u001b[0;32mdef\u001b[0m \u001b[0mregister_hook\u001b[0m\u001b[0;34m(\u001b[0m\u001b[0mself\u001b[0m\u001b[0;34m,\u001b[0m \u001b[0mhook\u001b[0m\u001b[0;34m)\u001b[0m\u001b[0;34m:\u001b[0m\u001b[0;34m\u001b[0m\u001b[0;34m\u001b[0m\u001b[0m\n",
            "\u001b[0;32m/Library/Frameworks/Python.framework/Versions/3.7/lib/python3.7/site-packages/torch/autograd/__init__.py\u001b[0m in \u001b[0;36mbackward\u001b[0;34m(tensors, grad_tensors, retain_graph, create_graph, grad_variables)\u001b[0m\n\u001b[1;32m     97\u001b[0m     Variable._execution_engine.run_backward(\n\u001b[1;32m     98\u001b[0m         \u001b[0mtensors\u001b[0m\u001b[0;34m,\u001b[0m \u001b[0mgrad_tensors\u001b[0m\u001b[0;34m,\u001b[0m \u001b[0mretain_graph\u001b[0m\u001b[0;34m,\u001b[0m \u001b[0mcreate_graph\u001b[0m\u001b[0;34m,\u001b[0m\u001b[0;34m\u001b[0m\u001b[0;34m\u001b[0m\u001b[0m\n\u001b[0;32m---> 99\u001b[0;31m         allow_unreachable=True)  # allow_unreachable flag\n\u001b[0m\u001b[1;32m    100\u001b[0m \u001b[0;34m\u001b[0m\u001b[0m\n\u001b[1;32m    101\u001b[0m \u001b[0;34m\u001b[0m\u001b[0m\n",
            "\u001b[0;31mKeyboardInterrupt\u001b[0m: "
          ]
        }
      ]
    },
    {
      "cell_type": "markdown",
      "metadata": {
        "colab_type": "text",
        "id": "5fbSgsrE1GqC"
      },
      "source": [
        "# Part2: Conditional GAN (cGAN)"
      ]
    },
    {
      "cell_type": "markdown",
      "metadata": {
        "colab_type": "text",
        "id": "7SjXNoT7BUey"
      },
      "source": [
        "Let's take the example of the set described in the next picture.\n",
        "![Map to satellite picture](https://raw.githubusercontent.com/Neyri/Projet-cGAN/master/BE/img/map_streetview.png)\n",
        "\n",
        "We have a picture of a map (from Google Maps) and we want to create an image of what the satellite view may look like.\n",
        "\n",
        "As we are not only trying to generate a random picture but a mapping between a picture to another one, we can't use the standard GAN architecture. We will then use a cGAN.\n",
        "\n",
        "A cGAN is a supervised GAN aiming at mapping a label picture to a real one or a real picture to a label one. As you can see in the diagram below, the discriminator will take as input a pair of images and try to predict if the pair was generated or not. The generator will not only generate an image from noise but will also use an image (label or real) to generate another one (real or label).\n",
        "![Diagram of how a cGan works](https://raw.githubusercontent.com/Neyri/Projet-cGAN/master/BE/img/cgan_map.png)\n"
      ]
    },
    {
      "cell_type": "markdown",
      "metadata": {
        "colab_type": "text",
        "id": "0JRaeHfzl6cO"
      },
      "source": [
        "### Generator\n",
        "\n",
        "In the cGAN architecture, the generator chosen is a U-Net.\n",
        "![U-Net](https://raw.githubusercontent.com/Neyri/Projet-cGAN/master/BE/img/unet.png)\n",
        "\n",
        "A U-Net takes as input an image, and outputs another image. \n",
        "\n",
        "It can be divided into 2 subparts : an encoder and a decoder. \n",
        "* The encoder takes the input image and reduces its dimension to encode the main features into a vector. \n",
        "* The decoder takes this vector and map the features stored into an image.\n",
        "\n",
        "A U-Net architecture is different from a classic encoder-decoder in that every layer of the decoder takes as input the previous decoded output as well as the output vector from the encoder layers of the same level. It allows the decoder to map low frequencies information encoded during the descent as well as high frequencies from the original picture. \n",
        "\n",
        "![U-Net](https://www.researchgate.net/profile/Baris_Turkbey/publication/315514772/figure/fig2/AS:485824962797569@1492841105670/U-net-architecture-Each-box-corresponds-to-a-multi-channel-features-maps-The-number-of.png)"
      ]
    },
    {
      "cell_type": "markdown",
      "metadata": {
        "colab_type": "text",
        "id": "xFqMOsoYwzFe"
      },
      "source": [
        "The architecture we will implement is the following (the number in the square is the number of filters used).\n",
        "![UNet Architecture](https://raw.githubusercontent.com/Neyri/Projet-cGAN/master/BE/img/unet_architecture.png)\n",
        "\n",
        "The encoder will take as input a colored picture (3 channels: RGB), it will pass through a series of convolution layers to encode the features of the picture. It will then be decoded by the decoder using transposed convolutional layers. These layers will take as input the previous decoded vector AND the encoded features of the same level. "
      ]
    },
    {
      "cell_type": "markdown",
      "metadata": {
        "id": "yzy7y4hmbbX3",
        "colab_type": "text"
      },
      "source": [
        "Now, let's create or cGAN to generate facades from a template image. For this purpose, we will use the \"Facade\" dataset available at http://cmp.felk.cvut.cz/~tylecr1/facade/.\n"
      ]
    },
    {
      "cell_type": "markdown",
      "metadata": {
        "colab_type": "text",
        "id": "Q_jf9H_NDESm"
      },
      "source": [
        "Let's first create a few classes describing the layers we will use in the U-Net."
      ]
    },
    {
      "cell_type": "code",
      "metadata": {
        "id": "uOKvYDyu0w8N",
        "colab_type": "code",
        "colab": {}
      },
      "source": [
        "# Importing all the libraries needed\n",
        "import matplotlib.pyplot as plt\n",
        "import imageio\n",
        "import glob\n",
        "import random\n",
        "import os\n",
        "import numpy as np\n",
        "import math\n",
        "import itertools\n",
        "import time\n",
        "import datetime\n",
        "import cv2\n",
        "from pathlib import Path\n",
        "from PIL import Image\n",
        "\n",
        "from torch.utils.data import Dataset, DataLoader\n",
        "import torchvision.transforms as transforms\n",
        "from torchvision.utils import save_image, make_grid\n",
        "from torchvision import datasets\n",
        "from torch.autograd import Variable\n",
        "\n",
        "import torch.nn as nn\n",
        "import torch.nn.functional as F\n",
        "import torch"
      ],
      "execution_count": 0,
      "outputs": []
    },
    {
      "cell_type": "code",
      "metadata": {
        "colab_type": "code",
        "id": "Zk5a6B5hILN2",
        "colab": {}
      },
      "source": [
        "# code adapted from https://github.com/milesial/Pytorch-UNet/blob/master/unet/unet_parts.py\n",
        "\n",
        "# Input layer\n",
        "class inconv(nn.Module):\n",
        "    def __init__(self, in_ch, out_ch):\n",
        "        super(inconv, self).__init__()\n",
        "        self.conv = nn.Sequential(\n",
        "            nn.Conv2d(in_ch, out_ch, kernel_size=4, padding=1, stride=2),\n",
        "            nn.LeakyReLU(negative_slope=0.2, inplace=True)\n",
        "        )\n",
        "\n",
        "    def forward(self, x):\n",
        "        x = self.conv(x)\n",
        "        return x\n",
        "\n",
        "# Encoder layer\n",
        "class down(nn.Module):\n",
        "    def __init__(self, in_ch, out_ch):\n",
        "        super(down, self).__init__()\n",
        "        self.conv = nn.Sequential(\n",
        "            nn.Conv2d(in_ch, out_ch, kernel_size=4, padding=1, stride=2),\n",
        "            nn.BatchNorm2d(out_ch),\n",
        "            nn.LeakyReLU(negative_slope=0.2, inplace=True)\n",
        "        )\n",
        "\n",
        "    def forward(self, x):\n",
        "        x = self.conv(x)\n",
        "        return x\n",
        "\n",
        "# Decoder layer\n",
        "class up(nn.Module):\n",
        "    def __init__(self, in_ch, out_ch, dropout=False):\n",
        "        super(up, self).__init__()\n",
        "        if dropout :\n",
        "            self.conv = nn.Sequential(\n",
        "                nn.ConvTranspose2d(in_ch, out_ch, kernel_size=4, padding=1, stride=2),\n",
        "                nn.BatchNorm2d(out_ch),\n",
        "                nn.Dropout(0.5, inplace=True),\n",
        "                nn.ReLU(inplace=True)\n",
        "            )\n",
        "        else:\n",
        "            self.conv = nn.Sequential(\n",
        "                nn.ConvTranspose2d(in_ch, out_ch, kernel_size=4, padding=1, stride=2),\n",
        "                nn.BatchNorm2d(out_ch),\n",
        "                nn.ReLU(inplace=True)\n",
        "            )\n",
        "\n",
        "    def forward(self, x1, x2):\n",
        "        x1 = self.conv(x1)\n",
        "        x = torch.cat([x1, x2], dim=1)\n",
        "        return x\n",
        "\n",
        "# Output layer\n",
        "class outconv(nn.Module):\n",
        "    def __init__(self, in_ch, out_ch):\n",
        "        super(outconv, self).__init__()\n",
        "        self.conv = nn.Sequential(\n",
        "              nn.ConvTranspose2d(in_ch, out_ch, kernel_size=4, padding=1, stride=2),\n",
        "              nn.Tanh()\n",
        "        )\n",
        "\n",
        "    def forward(self, x):\n",
        "        x = self.conv(x)\n",
        "        return x"
      ],
      "execution_count": 0,
      "outputs": []
    },
    {
      "cell_type": "markdown",
      "metadata": {
        "colab_type": "text",
        "id": "1rZ5Qz1mBUe8"
      },
      "source": [
        "Now let's create the U-Net using the helper classes defined previously."
      ]
    },
    {
      "cell_type": "code",
      "metadata": {
        "colab_type": "code",
        "id": "4Tbp_535EVPW",
        "colab": {}
      },
      "source": [
        " class U_Net(nn.Module):\n",
        "    ''' \n",
        "    Ck denotes a Convolution-BatchNorm-ReLU layer with k filters.\n",
        "    CDk denotes a Convolution-BatchNorm-Dropout-ReLU layer with a dropout rate of 50%\n",
        "    Encoder:\n",
        "      C64   - C128   - C256   - C512  - C512  - C512 - C512 - C512\n",
        "    Decoder:\n",
        "      CD512 - CD1024 - CD1024 - C1024 - C1024 - C512 - C256 - C128\n",
        "    '''\n",
        "    def __init__(self, n_channels, n_classes):\n",
        "        super(U_Net, self).__init__()\n",
        "        # Encoder\n",
        "        self.inc = inconv(n_channels, 64) # 64 filters\n",
        "        # TO DO :\n",
        "        # Create the 7 encoder layers called \"down1\" to \"down7\" following this sequence\n",
        "        # C64   - C128   - C256   - C512  - C512  - C512 - C512 - C512\n",
        "        # The first one has already been implemented\n",
        "        \n",
        "        \n",
        "        # Decoder\n",
        "        # TO DO :\n",
        "        # Create the 7 decoder layers called up1 to up7 following this sequence :\n",
        "        # CD512 - CD1024 - CD1024 - C1024 - C1024 - C512 - C256 - C128\n",
        "        # The last layer has already been defined\n",
        "        \n",
        "        \n",
        "        self.outc = outconv(128, n_classes) # 128 filters\n",
        "\n",
        "    def forward(self, x):\n",
        "        x1 = self.inc(x)\n",
        "        x2 = self.down1(x1)\n",
        "        x3 = self.down2(x2)\n",
        "        x4 = self.down3(x3)\n",
        "        x5 = self.down4(x4)\n",
        "        x6 = self.down5(x5)\n",
        "        x7 = self.down6(x6)\n",
        "        x8 = self.down7(x7)\n",
        "        # At this stage x8 is our encoded vector, we will now decode it\n",
        "        x = self.up7(x8, x7)\n",
        "        x = self.up6(x, x6)\n",
        "        x = self.up5(x, x5)\n",
        "        x = self.up4(x, x4)\n",
        "        x = self.up3(x, x3)\n",
        "        x = self.up2(x, x2)\n",
        "        x = self.up1(x, x1)\n",
        "        x = self.outc(x)\n",
        "        return x"
      ],
      "execution_count": 0,
      "outputs": []
    },
    {
      "cell_type": "code",
      "metadata": {
        "colab_type": "code",
        "id": "1hmcejTWJSYY",
        "colab": {}
      },
      "source": [
        "# We take images that have 3 channels (RGB) as input and output an image that also have 3 channels (RGB)\n",
        "generator=U_Net(3,3)\n",
        "# Check that the architecture is as expected\n",
        "generator"
      ],
      "execution_count": 0,
      "outputs": []
    },
    {
      "cell_type": "markdown",
      "metadata": {
        "colab_type": "text",
        "id": "xIXFtHzcBUfO"
      },
      "source": [
        "You should now have a working U-Net."
      ]
    },
    {
      "cell_type": "markdown",
      "metadata": {
        "colab_type": "text",
        "id": "RqD1katYBUfP"
      },
      "source": [
        "<font color='red'>**Question 1**</font>                                                                  \n",
        "Knowing the input and output images will be 256x256, what will be the dimension of the encoded vector x8  ?\n",
        "\n",
        "<font color='red'>**Question 2**</font>                                                                  \n",
        "As you can see, U-net has an encoder-decoder architecture with skip connections. Explain why it works better than a traditional encoder-decoder."
      ]
    },
    {
      "cell_type": "markdown",
      "metadata": {
        "colab_type": "text",
        "id": "cchTp3thBUfR"
      },
      "source": [
        "### Discriminator\n",
        "\n",
        "In the cGAN architecture, the chosen discriminator is a Patch GAN. It is a convolutional discriminator which enables to produce a map of the input pictures where each pixel represents a patch of size NxN of the input.\n",
        "\n",
        "![patch GAN](https://raw.githubusercontent.com/Neyri/Projet-cGAN/master/BE/img/patchGAN.png)\n",
        "\n",
        "The size N is given by the depth of the net. According to this table :\n",
        "\n",
        "| Number of layers | N |\n",
        "| ---- | ---- |\n",
        "| 1 | 16 |\n",
        "| 2 | 34 |\n",
        "| 3 | 70 |\n",
        "| 4 | 142 |\n",
        "| 5 | 286 |\n",
        "| 6 | 574 |\n",
        "\n",
        "The number of layers actually means the number of layers with `kernel=(4,4)`, `padding=(1,1)` and `stride=(2,2)`. These layers are followed by 2 layers with `kernel=(4,4)`, `padding=(1,1)` and `stride=(1,1)`.\n",
        "In our case we are going to create a 70x70 PatchGAN."
      ]
    },
    {
      "cell_type": "markdown",
      "metadata": {
        "colab_type": "text",
        "id": "ge6I7M0aBUfT"
      },
      "source": [
        "Let's first create a few helping classes."
      ]
    },
    {
      "cell_type": "code",
      "metadata": {
        "colab_type": "code",
        "id": "RYqomFO8BUfV",
        "colab": {}
      },
      "source": [
        "class conv_block(nn.Module):\n",
        "    def __init__(self, in_ch, out_ch, use_batchnorm=True, stride=2):\n",
        "        super(conv_block, self).__init__()\n",
        "        if use_batchnorm:\n",
        "            self.conv = nn.Sequential(\n",
        "                nn.Conv2d(in_ch, out_ch, kernel_size=4, padding=1, stride=stride),\n",
        "                nn.BatchNorm2d(out_ch),\n",
        "                nn.LeakyReLU(negative_slope=0.2, inplace=True)\n",
        "            )\n",
        "        else:\n",
        "            self.conv = nn.Sequential(\n",
        "                nn.Conv2d(in_ch, out_ch, kernel_size=4, padding=1, stride=stride),\n",
        "                nn.LeakyReLU(negative_slope=0.2, inplace=True)\n",
        "            )\n",
        "\n",
        "    def forward(self, x):\n",
        "        x = self.conv(x)\n",
        "        return x\n",
        "    \n",
        "\n",
        "class out_block(nn.Module):\n",
        "    def __init__(self, in_ch, out_ch):\n",
        "        super(out_block, self).__init__()\n",
        "        self.conv = nn.Sequential(\n",
        "            nn.Conv2d(in_ch, 1, kernel_size=4, padding=1, stride=1),\n",
        "            nn.Sigmoid()\n",
        "        )\n",
        "\n",
        "    def forward(self, x):\n",
        "        x = self.conv(x)\n",
        "        return x"
      ],
      "execution_count": 0,
      "outputs": []
    },
    {
      "cell_type": "markdown",
      "metadata": {
        "colab_type": "text",
        "id": "5m4Dnup4BUfc"
      },
      "source": [
        "Now let's create the Patch GAN discriminator.\n",
        "As we want a 70x70 Patch GAN, the architecture will be as follows :\n",
        "```\n",
        "1. C64  - K4, P1, S2\n",
        "2. C128 - K4, P1, S2\n",
        "3. C256 - K4, P1, S2\n",
        "4. C512 - K4, P1, S1\n",
        "5. C1   - K4, P1, S1 (output)\n",
        "```\n",
        "Where Ck denotes a convolution block with k filters, Kk a kernel of size k, Pk is the padding size and Sk the stride applied.\n",
        "*Note :* For the first layer, we do not use batchnorm."
      ]
    },
    {
      "cell_type": "markdown",
      "metadata": {
        "colab_type": "text",
        "id": "AH6u5a-PBUfg"
      },
      "source": [
        "<font color='red'>**Question 3**</font>                                                                  \n",
        "Knowing the input and output images will be 256x256, what will be the dimension of the encoded vector x8  ?Knowing input images will be 256x256 with 3 channels each, how many parameters are there to learn ?"
      ]
    },
    {
      "cell_type": "code",
      "metadata": {
        "colab_type": "code",
        "id": "g_9LxNhGBUfi",
        "colab": {}
      },
      "source": [
        "class PatchGAN(nn.Module):\n",
        "    def __init__(self, n_channels, n_classes):\n",
        "        super(PatchGAN, self).__init__()\n",
        "        # TODO :\n",
        "        # create the 4 first layers named conv1 to conv4\n",
        "        self.conv1 =\n",
        "        self.conv2 =\n",
        "        self.conv3 =\n",
        "        self.conv4 =\n",
        "        # output layer\n",
        "        self.out = out_block(512, n_classes)\n",
        "        \n",
        "    def forward(self, x1, x2):\n",
        "        x = torch.cat([x2, x1], dim=1)\n",
        "        x = self.conv1(x)\n",
        "        x = self.conv2(x)\n",
        "        x = self.conv3(x)\n",
        "        x = self.conv4(x)\n",
        "        x = self.out(x)\n",
        "        return x"
      ],
      "execution_count": 0,
      "outputs": []
    },
    {
      "cell_type": "code",
      "metadata": {
        "colab_type": "code",
        "id": "W_sevZRnBUfn",
        "colab": {}
      },
      "source": [
        "# We have 6 input channels as we concatenate 2 images (with 3 channels each)\n",
        "discriminator = PatchGAN(6,1)\n",
        "discriminator"
      ],
      "execution_count": 0,
      "outputs": []
    },
    {
      "cell_type": "markdown",
      "metadata": {
        "colab_type": "text",
        "id": "v_QubOycBUfv"
      },
      "source": [
        "You should now have a working discriminator."
      ]
    },
    {
      "cell_type": "markdown",
      "metadata": {
        "colab_type": "text",
        "id": "DiI2CByRBUfz"
      },
      "source": [
        "### Loss functions\n",
        "\n",
        "As we have seen in the choice of the various architectures for this GAN, the issue is to map both low and high frequencies.\n",
        "To tackle this problem, this GAN rely on the architecture to map the high frequencies (U-Net + PatchGAN) and the loss function to learn low frequencies features. The global loss function will indeed be made of 2 parts :\n",
        "* the first part to map hight frequencies, will try to optimize the mean squared error of the GAN.\n",
        "* the second part to map low frequencies, will minimize the $\\mathcal{L}_1$ norm of the generated picture.\n",
        "\n",
        "So the loss can be defined as $$ G^* = arg\\ \\underset{G}{min}\\ \\underset{D}{max}\\ \\mathcal{L}_{cGAN}(G,D) + \\lambda \\mathcal{L}_1(G)$$"
      ]
    },
    {
      "cell_type": "code",
      "metadata": {
        "colab_type": "code",
        "id": "k4G_xewPBUf4",
        "colab": {}
      },
      "source": [
        "# Loss functions\n",
        "criterion_GAN = torch.nn.MSELoss()\n",
        "criterion_pixelwise = torch.nn.L1Loss()\n",
        "\n",
        "# Loss weight of L1 pixel-wise loss between translated image and real image\n",
        "lambda_pixel = 100"
      ],
      "execution_count": 0,
      "outputs": []
    },
    {
      "cell_type": "markdown",
      "metadata": {
        "colab_type": "text",
        "id": "c12q2NwkBUf7"
      },
      "source": [
        "### Training and evaluating models "
      ]
    },
    {
      "cell_type": "code",
      "metadata": {
        "colab_type": "code",
        "id": "vGKjO0UMBUf9",
        "colab": {}
      },
      "source": [
        "# parameters\n",
        "epoch = 0 #  epoch to start training from\n",
        "n_epoch = 200  #  number of epochs of training\n",
        "batch_size =10  #  size of the batches\n",
        "lr = 0.0002 #  adam: learning rate\n",
        "b1 =0.5  #  adam: decay of first order momentum of gradient\n",
        "b2 = 0.999  # adam: decay of first order momentum of gradient\n",
        "decay_epoch = 100  # epoch from which to start lr decay\n",
        "img_height = 256  # size of image height\n",
        "img_width = 256  # size of image width\n",
        "channels = 3  # number of image channels\n",
        "sample_interval = 500 # interval between sampling of images from generators\n",
        "checkpoint_interval = -1 # interval between model checkpoints\n",
        "cuda = True if torch.cuda.is_available() else False # do you have cuda ?"
      ],
      "execution_count": 0,
      "outputs": []
    },
    {
      "cell_type": "markdown",
      "metadata": {
        "id": "PhPkU7BDYooV",
        "colab_type": "text"
      },
      "source": [
        "Download the dataset. \n"
      ]
    },
    {
      "cell_type": "code",
      "metadata": {
        "id": "8wyPjAxPYsNF",
        "colab_type": "code",
        "colab": {}
      },
      "source": [
        "import urllib.request\n",
        "from tqdm import tqdm\n",
        "import os\n",
        "import zipfile\n",
        "\n",
        "def download_hook(t):\n",
        "    \"\"\"Wraps tqdm instance.\n",
        "    Don't forget to close() or __exit__()\n",
        "    the tqdm instance once you're done with it (easiest using `with` syntax).\n",
        "    Example\n",
        "    -------\n",
        "    >>> with tqdm(...) as t:\n",
        "    ...     reporthook = my_hook(t)\n",
        "    ...     urllib.request.urlretrieve(..., reporthook=reporthook)\n",
        "    \"\"\"\n",
        "    last_b = [0]\n",
        "\n",
        "    def update_to(b=1, bsize=1, tsize=None):\n",
        "        \"\"\"\n",
        "        b  : int, optional\n",
        "            Number of blocks transferred so far [default: 1].\n",
        "        bsize  : int, optional\n",
        "            Size of each block (in tqdm units) [default: 1].\n",
        "        tsize  : int, optional\n",
        "            Total size (in tqdm units). If [default: None] remains unchanged.\n",
        "        \"\"\"\n",
        "        if tsize is not None:\n",
        "            t.total = tsize\n",
        "        t.update((b - last_b[0]) * bsize)\n",
        "        last_b[0] = b\n",
        "\n",
        "    return update_to\n",
        "\n",
        "def download(url, save_dir):\n",
        "    filename = url.split('/')[-1]\n",
        "    with tqdm(unit = 'B', unit_scale = True, unit_divisor = 1024, miniters = 1, desc = filename) as t:\n",
        "        urllib.request.urlretrieve(url, filename = os.path.join(save_dir, filename), reporthook = download_hook(t), data = None)\n",
        "\n",
        "if __name__ == '__main__':\n",
        "    # Download ground truth\n",
        "    if not os.path.exists(\"CMP_facade_DB_base.zip\"):\n",
        "        download(\"http://cmp.felk.cvut.cz/~tylecr1/facade/CMP_facade_DB_base.zip\", \"./\")\n",
        "    # Extract in the correct folder\n",
        "    with zipfile.ZipFile(\"CMP_facade_DB_base.zip\", 'r') as zip_ref:\n",
        "        zip_ref.extractall(\"./facades\")\n",
        "        os.rename(\"./facades/base\", \"./facades/train\")\n",
        "\n",
        "    # Download ground truth\n",
        "    if not os.path.exists(\"CMP_facade_DB_extended.zip\"):\n",
        "        download(\"http://cmp.felk.cvut.cz/~tylecr1/facade/CMP_facade_DB_extended.zip\", \"./\")\n",
        "    # Extract in the correct folder\n",
        "    with zipfile.ZipFile(\"CMP_facade_DB_extended.zip\", 'r') as zip_ref:\n",
        "        zip_ref.extractall(\"./facades\")\n",
        "        os.rename(\"./facades/extended\", \"./facades/val\")\n"
      ],
      "execution_count": 0,
      "outputs": []
    },
    {
      "cell_type": "markdown",
      "metadata": {
        "colab_type": "text",
        "id": "6DHT9c0_BUgA"
      },
      "source": [
        "Configure the dataloader"
      ]
    },
    {
      "cell_type": "code",
      "metadata": {
        "colab_type": "code",
        "id": "rxi_QIpgBUgB",
        "colab": {}
      },
      "source": [
        "class ImageDataset(Dataset):\n",
        "    def __init__(self, root, transforms_=None, mode='train'):\n",
        "        self.transform = transforms.Compose(transforms_)\n",
        "\n",
        "        self.files_img = sorted(glob.glob(os.path.join(root, mode) + '/*.jpg'))\n",
        "        if mode == 'val':\n",
        "            self.files_img.extend(\n",
        "                sorted(glob.glob(os.path.join(root, 'val') + '/*.jpg')))\n",
        "\n",
        "        self.files_mask = sorted(glob.glob(os.path.join(root, mode) + '/*.png'))\n",
        "        if mode == 'val':\n",
        "            self.files_mask.extend(\n",
        "                sorted(glob.glob(os.path.join(root, 'val') + '/*.png')))\n",
        "            \n",
        "        assert len(self.files_img) == len(self.files_mask)\n",
        "\n",
        "    def __getitem__(self, index):\n",
        "\n",
        "        img = Image.open(self.files_img[index % len(self.files_img)])\n",
        "        mask = Image.open(self.files_mask[index % len(self.files_img)])\n",
        "        mask = mask.convert('RGB')\n",
        "\n",
        "        img = self.transform(img)\n",
        "        mask = self.transform(mask)\n",
        "\n",
        "        return img, mask\n",
        "\n",
        "    def __len__(self):\n",
        "        return len(self.files_img)\n",
        "    \n",
        "# Configure dataloaders\n",
        "transforms_ = [transforms.Resize((img_height, img_width), Image.BICUBIC),\n",
        "               transforms.ToTensor()]  # transforms.Normalize((0.5,0.5,0.5), (0.5,0.5,0.5))\n",
        "\n",
        "dataloader = DataLoader(ImageDataset(\"facades\", transforms_=transforms_),\n",
        "                        batch_size=16, shuffle=True)\n",
        "\n",
        "val_dataloader = DataLoader(ImageDataset(\"facades\", transforms_=transforms_, mode='val'),\n",
        "                            batch_size=8, shuffle=False)\n",
        "\n",
        "# Tensor type\n",
        "Tensor = torch.cuda.FloatTensor if cuda else torch.FloatTensor"
      ],
      "execution_count": 0,
      "outputs": []
    },
    {
      "cell_type": "markdown",
      "metadata": {
        "colab_type": "text",
        "id": "Okb3LU76BUgG"
      },
      "source": [
        "Check the loading works and a few helper functions"
      ]
    },
    {
      "cell_type": "code",
      "metadata": {
        "colab_type": "code",
        "id": "xuxq4TZRBUgJ",
        "colab": {}
      },
      "source": [
        "def plot2x2Array(image, mask):\n",
        "    f, axarr = plt.subplots(1, 2)\n",
        "    axarr[0].imshow(image)\n",
        "    axarr[1].imshow(mask)\n",
        "\n",
        "    axarr[0].set_title('Image')\n",
        "    axarr[1].set_title('Mask')\n",
        "\n",
        "\n",
        "def reverse_transform(image):\n",
        "    image = image.numpy().transpose((1, 2, 0))\n",
        "    image = np.clip(image, 0, 1)\n",
        "    image = (image * 255).astype(np.uint8)\n",
        "\n",
        "    return image\n",
        "\n",
        "def plot2x3Array(image, mask,predict):\n",
        "    f, axarr = plt.subplots(1,3,figsize=(15,15))\n",
        "    axarr[0].imshow(image)\n",
        "    axarr[1].imshow(mask)\n",
        "    axarr[2].imshow(predict)\n",
        "    axarr[0].set_title('input')\n",
        "    axarr[1].set_title('real')\n",
        "    axarr[2].set_title('fake')"
      ],
      "execution_count": 0,
      "outputs": []
    },
    {
      "cell_type": "code",
      "metadata": {
        "colab_type": "code",
        "id": "m2NxLrQEBUgM",
        "colab": {}
      },
      "source": [
        "image, mask = next(iter(dataloader))\n",
        "image = reverse_transform(image[0])\n",
        "mask = reverse_transform(mask[0])\n",
        "plot2x2Array(image, mask)"
      ],
      "execution_count": 0,
      "outputs": []
    },
    {
      "cell_type": "markdown",
      "metadata": {
        "colab_type": "text",
        "id": "zAvaxAbxBUgQ"
      },
      "source": [
        "Initialize our GAN"
      ]
    },
    {
      "cell_type": "code",
      "metadata": {
        "colab_type": "code",
        "id": "dVgF3qfDBUgR",
        "colab": {}
      },
      "source": [
        "# Calculate output of image discriminator (PatchGAN)\n",
        "patch = (1, img_height//2**3-2, img_width//2**3-2)\n",
        "\n",
        "if cuda:\n",
        "    generator = generator.cuda()\n",
        "    discriminator = discriminator.cuda()\n",
        "    criterion_GAN.cuda()\n",
        "    criterion_pixelwise.cuda()\n",
        "    \n",
        "# Optimizers\n",
        "optimizer_G = torch.optim.Adam(generator.parameters(), lr=lr, betas=(b1, b2))\n",
        "optimizer_D = torch.optim.Adam(discriminator.parameters(), lr=lr, betas=(b1, b2))"
      ],
      "execution_count": 0,
      "outputs": []
    },
    {
      "cell_type": "markdown",
      "metadata": {
        "colab_type": "text",
        "id": "rN3cbiWaBUgf"
      },
      "source": [
        "Start training"
      ]
    },
    {
      "cell_type": "code",
      "metadata": {
        "colab_type": "code",
        "id": "msmQQUX-BUgh",
        "colab": {}
      },
      "source": [
        "def save_model(epoch):\n",
        "    # save your work\n",
        "    torch.save({\n",
        "                'epoch': epoch,\n",
        "                'model_state_dict': generator.state_dict(),\n",
        "                'optimizer_state_dict': optimizer_G.state_dict(),\n",
        "                'loss': loss_G,\n",
        "                }, 'generator_'+str(epoch)+'.pth')\n",
        "    torch.save({\n",
        "                'epoch': epoch,\n",
        "                'model_state_dict': discriminator.state_dict(),\n",
        "                'optimizer_state_dict': optimizer_D.state_dict(),\n",
        "                'loss': loss_D,\n",
        "                }, 'discriminator_'+str(epoch)+'.pth')\n",
        "    \n",
        "def weights_init_normal(m):\n",
        "  classname = m.__class__.__name__\n",
        "  if classname.find('Conv') != -1:\n",
        "      torch.nn.init.normal_(m.weight.data, 0.0, 0.02)\n",
        "  elif classname.find('BatchNorm2d') != -1:\n",
        "      torch.nn.init.normal_(m.weight.data, 1.0, 0.02)\n",
        "      torch.nn.init.constant_(m.bias.data, 0.0)"
      ],
      "execution_count": 0,
      "outputs": []
    },
    {
      "cell_type": "markdown",
      "metadata": {
        "colab_type": "text",
        "id": "6UXrZLLNBUgq"
      },
      "source": [
        "<font color='red'>Complete the loss function </font>  in the following training code and train your network:  "
      ]
    },
    {
      "cell_type": "code",
      "metadata": {
        "id": "7NUuGcQ0SiJw",
        "colab_type": "code",
        "colab": {}
      },
      "source": [
        "# ----------\n",
        "#  Training\n",
        "# ----------\n",
        "\n",
        "losses = []\n",
        "num_epochs = 200\n",
        "\n",
        "# Initialize weights\n",
        "generator.apply(weights_init_normal)\n",
        "discriminator.apply(weights_init_normal)\n",
        "epoch_D = 0\n",
        "epoch_G = 0\n",
        "\n",
        "# train the network\n",
        "discriminator.train()\n",
        "generator.train()\n",
        "print_every = 400\n",
        "\n",
        "for epoch in range(epoch_G, num_epochs):\n",
        "    for i, batch in enumerate(dataloader):\n",
        "\n",
        "        # Model inputs\n",
        "        real_A = Variable(batch[0].type(Tensor))\n",
        "        real_B = Variable(batch[1].type(Tensor))\n",
        "\n",
        "        # Adversarial ground truths\n",
        "        valid = Variable(Tensor(np.ones((real_B.size(0), *patch))), requires_grad=False)\n",
        "        fake = Variable(Tensor(np.zeros((real_B.size(0), *patch))), requires_grad=False)\n",
        "\n",
        "        # ------------------\n",
        "        #  Train Generators\n",
        "        # ------------------\n",
        "\n",
        "        optimizer_G.zero_grad()\n",
        "\n",
        "        # GAN loss\n",
        "        # TO DO: Put here your GAN loss\n",
        "\n",
        "        # Pixel-wise loss\n",
        "        # TO DO: Put here your pixel loss\n",
        "\n",
        "        # Total loss\n",
        "        # TO DO: Put here your total loss\n",
        "\n",
        "        loss_G.backward()\n",
        "\n",
        "        optimizer_G.step()\n",
        "\n",
        "        # ---------------------\n",
        "        #  Train Discriminator\n",
        "        # ---------------------\n",
        "\n",
        "        optimizer_D.zero_grad()\n",
        "\n",
        "        # Real loss\n",
        "        pred_real = discriminator(real_A, real_B)\n",
        "        loss_real = criterion_GAN(pred_real, valid)\n",
        "\n",
        "        # Fake loss\n",
        "        pred_fake = discriminator(fake_A.detach(), real_B)\n",
        "        loss_fake = criterion_GAN(pred_fake, fake)\n",
        "\n",
        "        # Total loss\n",
        "        loss_D = 0.5 * (loss_real + loss_fake)\n",
        "\n",
        "        loss_D.backward()\n",
        "        optimizer_D.step()\n",
        "        \n",
        "        # Print some loss stats\n",
        "        if i % print_every == 0:\n",
        "            # print discriminator and generator loss\n",
        "            print('Epoch [{:5d}/{:5d}] | d_loss: {:6.4f} | g_loss: {:6.4f}'.format(\n",
        "                    epoch+1, num_epochs, loss_D.item(), loss_G.item()))\n",
        "    ## AFTER EACH EPOCH##\n",
        "    # append discriminator loss and generator loss\n",
        "    losses.append((loss_D.item(), loss_G.item()))\n",
        "    if epoch % 100 == 0:\n",
        "        print('Saving model...')\n",
        "        save_model(epoch)\n"
      ],
      "execution_count": 0,
      "outputs": []
    },
    {
      "cell_type": "markdown",
      "metadata": {
        "colab_type": "text",
        "id": "Ed-ZbuVWBUgu"
      },
      "source": [
        "Observation of the loss along the training"
      ]
    },
    {
      "cell_type": "code",
      "metadata": {
        "id": "nOLW054DTLpg",
        "colab_type": "code",
        "colab": {}
      },
      "source": [
        "fig, ax = plt.subplots()\n",
        "losses = np.array(losses)\n",
        "plt.plot(losses.T[0], label='Discriminator')\n",
        "plt.plot(losses.T[1], label='Generator')\n",
        "plt.title(\"Training Losses\")\n",
        "plt.legend()\n"
      ],
      "execution_count": 0,
      "outputs": []
    },
    {
      "cell_type": "markdown",
      "metadata": {
        "colab_type": "text",
        "id": "S58kJj9HBUgV"
      },
      "source": [
        "If the training takes too much time, you can use a pretrained model in the meantime, to evaluate its performance.\n",
        "\n",
        "It is available at : https://drive.google.com/drive/folders/10XHFrEztjdbQP2LiFlsk8e65Cyo1g6yN?usp=sharing"
      ]
    },
    {
      "cell_type": "markdown",
      "metadata": {
        "colab_type": "text",
        "id": "i0TC5qK3BUg4"
      },
      "source": [
        "### Evaluate your cGAN"
      ]
    },
    {
      "cell_type": "code",
      "metadata": {
        "colab_type": "code",
        "id": "fYBRR6NYBUg6",
        "colab": {}
      },
      "source": [
        "def load_model(epoch=200):\n",
        "    if 'generator_'+str(epoch)+'.pth' in os.listdir() and 'discriminator_'+str(epoch)+'.pth' in os.listdir():\n",
        "        if cuda:\n",
        "            checkpoint_generator = torch.load('generator_'+str(epoch)+'.pth')\n",
        "        else:\n",
        "            checkpoint_generator = torch.load('generator_'+str(epoch)+'.pth', map_location='cpu')\n",
        "        generator.load_state_dict(checkpoint_generator['model_state_dict'])\n",
        "        optimizer_G.load_state_dict(checkpoint_generator['optimizer_state_dict'])\n",
        "        epoch_G = checkpoint_generator['epoch']\n",
        "        loss_G = checkpoint_generator['loss']\n",
        "\n",
        "        if cuda:\n",
        "            checkpoint_discriminator = torch.load('discriminator_'+str(epoch)+'.pth')\n",
        "        else:\n",
        "            checkpoint_discriminator = torch.load('discriminator_'+str(epoch)+'.pth', map_location='cpu')\n",
        "        discriminator.load_state_dict(checkpoint_discriminator['model_state_dict'])\n",
        "        optimizer_D.load_state_dict(checkpoint_discriminator['optimizer_state_dict'])\n",
        "        epoch_D = checkpoint_discriminator['epoch']\n",
        "        loss_D = checkpoint_discriminator['loss']\n",
        "    else:\n",
        "        print('There isn\\' a training available with this number of epochs')"
      ],
      "execution_count": 0,
      "outputs": []
    },
    {
      "cell_type": "code",
      "metadata": {
        "colab_type": "code",
        "id": "4V0DwQomBUg9",
        "colab": {}
      },
      "source": [
        "load_model(epoch=200)\n",
        "\n",
        "# switching mode\n",
        "generator.eval()"
      ],
      "execution_count": 0,
      "outputs": []
    },
    {
      "cell_type": "code",
      "metadata": {
        "colab_type": "code",
        "id": "gyvmvkIvBUhB",
        "colab": {}
      },
      "source": [
        "# show a sample evaluation image on the training base\n",
        "image, mask = next(iter(dataloader))\n",
        "output = generator(mask.type(Tensor))\n",
        "output = output.view(16, 3, 256, 256)\n",
        "output = output.cpu().detach()\n",
        "for i in range(8):\n",
        "    image_plot = reverse_transform(image[i])\n",
        "    output_plot = reverse_transform(output[i])\n",
        "    mask_plot = reverse_transform(mask[i])\n",
        "    plot2x3Array(mask_plot,image_plot,output_plot)"
      ],
      "execution_count": 0,
      "outputs": []
    },
    {
      "cell_type": "code",
      "metadata": {
        "colab_type": "code",
        "id": "nqvrxBoGBUhD",
        "colab": {}
      },
      "source": [
        "# show a sample evaluation image on the validation dataset\n",
        "image, mask = next(iter(val_dataloader))\n",
        "output = generator(mask.type(Tensor))\n",
        "output = output.view(8, 3, 256, 256)\n",
        "output = output.cpu().detach()\n",
        "for i in range(8):\n",
        "    image_plot = reverse_transform(image[i])\n",
        "    output_plot = reverse_transform(output[i])\n",
        "    mask_plot = reverse_transform(mask[i])\n",
        "    plot2x3Array(mask_plot,image_plot,output_plot)"
      ],
      "execution_count": 0,
      "outputs": []
    },
    {
      "cell_type": "markdown",
      "metadata": {
        "colab_type": "text",
        "id": "qkFVjRsOBUhG"
      },
      "source": [
        "<font color='red'>**Question 4**</font>                                                                  \n",
        "Compare results for 100 and 200 epochs"
      ]
    },
    {
      "cell_type": "code",
      "metadata": {
        "id": "k85Cl5_UDWyv",
        "colab_type": "code",
        "colab": {}
      },
      "source": [
        "# TO DO : Your code here to load and evaluate with a few samples\n",
        "#         a model after 100 epochs\n",
        "\n"
      ],
      "execution_count": 0,
      "outputs": []
    },
    {
      "cell_type": "code",
      "metadata": {
        "colab_type": "code",
        "id": "_GbMIfRXBUhH",
        "colab": {}
      },
      "source": [
        "# And finally :\n",
        "if cuda:\n",
        "    torch.cuda.empty_cache()"
      ],
      "execution_count": 0,
      "outputs": []
    },
    {
      "cell_type": "markdown",
      "metadata": {
        "id": "rVxSSPJgK60P",
        "colab_type": "text"
      },
      "source": [
        "# How to submit your Work ?\n",
        "Your work should be uploaded within 3 weeks into the Moodle section \"Devoir 2 - GAN et Conditional GAN\". It can be either a notebook containing your code and a description of your work, experiments and results or a \".zip\" file containing your report in a \"pdf\" format describing your work, experiments and results as well as your code (\".py\" Python files). "
      ]
    }
  ]
}